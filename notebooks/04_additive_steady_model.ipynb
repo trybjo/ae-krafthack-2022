{
 "cells": [
  {
   "cell_type": "markdown",
   "metadata": {},
   "source": [
    "# Krafthack 2022 Additive neural newtork model"
   ]
  },
  {
   "cell_type": "code",
   "execution_count": 90,
   "metadata": {},
   "outputs": [],
   "source": [
    "import pandas as pd\n",
    "import plotly.express as px\n",
    "import numpy as np\n",
    "from matplotlib import pyplot as plt\n",
    "import os\n",
    "import pickle"
   ]
  },
  {
   "cell_type": "code",
   "execution_count": 92,
   "metadata": {},
   "outputs": [
    {
     "name": "stdout",
     "output_type": "stream",
     "text": [
      "Libraries imported.\n",
      "Keras version: 2.8.0\n",
      "TensorFlow version: 2.8.0\n"
     ]
    }
   ],
   "source": [
    "import tensorflow\n",
    "from tensorflow import keras\n",
    "from tensorflow.keras import layers\n",
    "from tensorflow.keras import utils\n",
    "\n",
    "# Set random seed for reproducability\n",
    "tensorflow.random.set_seed(0)\n",
    "\n",
    "print(\"Libraries imported.\")\n",
    "print('Keras version:',keras.__version__)\n",
    "print('TensorFlow version:',tensorflow.__version__)"
   ]
  },
  {
   "cell_type": "code",
   "execution_count": 93,
   "metadata": {},
   "outputs": [],
   "source": [
    "from data_helpers import get_operating_signal_names, get_tensile_sensor_names\n",
    "from sklearn.model_selection import train_test_split\n",
    "from sklearn.preprocessing import StandardScaler"
   ]
  },
  {
   "cell_type": "code",
   "execution_count": 94,
   "metadata": {},
   "outputs": [
    {
     "data": {
      "text/html": [
       "<div>\n",
       "<style scoped>\n",
       "    .dataframe tbody tr th:only-of-type {\n",
       "        vertical-align: middle;\n",
       "    }\n",
       "\n",
       "    .dataframe tbody tr th {\n",
       "        vertical-align: top;\n",
       "    }\n",
       "\n",
       "    .dataframe thead th {\n",
       "        text-align: right;\n",
       "    }\n",
       "</style>\n",
       "<table border=\"1\" class=\"dataframe\">\n",
       "  <thead>\n",
       "    <tr style=\"text-align: right;\">\n",
       "      <th></th>\n",
       "      <th>Unit_4_Power</th>\n",
       "      <th>Unit_4_Reactive Power</th>\n",
       "      <th>Turbine_Guide Vane Opening</th>\n",
       "      <th>Turbine_Pressure Drafttube</th>\n",
       "      <th>Turbine_Pressure Spiral Casing</th>\n",
       "      <th>Turbine_Rotational Speed</th>\n",
       "      <th>Bolt_1_Tensile</th>\n",
       "      <th>Bolt_2_Tensile</th>\n",
       "      <th>Bolt_3_Tensile</th>\n",
       "      <th>Bolt_4_Tensile</th>\n",
       "      <th>Bolt_5_Tensile</th>\n",
       "      <th>Bolt_6_Tensile</th>\n",
       "    </tr>\n",
       "    <tr>\n",
       "      <th>timepoints</th>\n",
       "      <th></th>\n",
       "      <th></th>\n",
       "      <th></th>\n",
       "      <th></th>\n",
       "      <th></th>\n",
       "      <th></th>\n",
       "      <th></th>\n",
       "      <th></th>\n",
       "      <th></th>\n",
       "      <th></th>\n",
       "      <th></th>\n",
       "      <th></th>\n",
       "    </tr>\n",
       "  </thead>\n",
       "  <tbody>\n",
       "    <tr>\n",
       "      <th>1970-09-11 00:00:00</th>\n",
       "      <td>216.010229</td>\n",
       "      <td>2.213785</td>\n",
       "      <td>72.927260</td>\n",
       "      <td>152.625396</td>\n",
       "      <td>5204.692439</td>\n",
       "      <td>107.993752</td>\n",
       "      <td>4.962772</td>\n",
       "      <td>-7.615786</td>\n",
       "      <td>-2.839481</td>\n",
       "      <td>-0.922153</td>\n",
       "      <td>-5.521569</td>\n",
       "      <td>-3.766545</td>\n",
       "    </tr>\n",
       "    <tr>\n",
       "      <th>1970-09-11 00:00:01</th>\n",
       "      <td>215.986387</td>\n",
       "      <td>2.430907</td>\n",
       "      <td>72.857113</td>\n",
       "      <td>152.426614</td>\n",
       "      <td>5204.907020</td>\n",
       "      <td>107.993752</td>\n",
       "      <td>5.031327</td>\n",
       "      <td>-7.592030</td>\n",
       "      <td>-2.878009</td>\n",
       "      <td>-0.940889</td>\n",
       "      <td>-5.516459</td>\n",
       "      <td>-3.691460</td>\n",
       "    </tr>\n",
       "    <tr>\n",
       "      <th>1970-09-11 00:00:02</th>\n",
       "      <td>215.962544</td>\n",
       "      <td>2.648030</td>\n",
       "      <td>72.786965</td>\n",
       "      <td>152.221141</td>\n",
       "      <td>5205.337213</td>\n",
       "      <td>107.993752</td>\n",
       "      <td>4.978194</td>\n",
       "      <td>-7.574893</td>\n",
       "      <td>-2.857521</td>\n",
       "      <td>-0.937066</td>\n",
       "      <td>-5.550948</td>\n",
       "      <td>-3.748036</td>\n",
       "    </tr>\n",
       "    <tr>\n",
       "      <th>1970-09-11 00:00:03</th>\n",
       "      <td>215.938701</td>\n",
       "      <td>2.865152</td>\n",
       "      <td>72.716817</td>\n",
       "      <td>152.015668</td>\n",
       "      <td>5205.767405</td>\n",
       "      <td>107.993752</td>\n",
       "      <td>4.894897</td>\n",
       "      <td>-7.659141</td>\n",
       "      <td>-2.939444</td>\n",
       "      <td>-0.951310</td>\n",
       "      <td>-5.510674</td>\n",
       "      <td>-3.769048</td>\n",
       "    </tr>\n",
       "    <tr>\n",
       "      <th>1970-09-11 00:00:04</th>\n",
       "      <td>215.914859</td>\n",
       "      <td>3.082275</td>\n",
       "      <td>72.646670</td>\n",
       "      <td>151.810195</td>\n",
       "      <td>5206.197597</td>\n",
       "      <td>107.993752</td>\n",
       "      <td>4.989375</td>\n",
       "      <td>-7.563591</td>\n",
       "      <td>-2.863004</td>\n",
       "      <td>-0.983190</td>\n",
       "      <td>-5.588106</td>\n",
       "      <td>-3.776209</td>\n",
       "    </tr>\n",
       "  </tbody>\n",
       "</table>\n",
       "</div>"
      ],
      "text/plain": [
       "                     Unit_4_Power  Unit_4_Reactive Power  \\\n",
       "timepoints                                                 \n",
       "1970-09-11 00:00:00    216.010229               2.213785   \n",
       "1970-09-11 00:00:01    215.986387               2.430907   \n",
       "1970-09-11 00:00:02    215.962544               2.648030   \n",
       "1970-09-11 00:00:03    215.938701               2.865152   \n",
       "1970-09-11 00:00:04    215.914859               3.082275   \n",
       "\n",
       "                     Turbine_Guide Vane Opening  Turbine_Pressure Drafttube  \\\n",
       "timepoints                                                                    \n",
       "1970-09-11 00:00:00                   72.927260                  152.625396   \n",
       "1970-09-11 00:00:01                   72.857113                  152.426614   \n",
       "1970-09-11 00:00:02                   72.786965                  152.221141   \n",
       "1970-09-11 00:00:03                   72.716817                  152.015668   \n",
       "1970-09-11 00:00:04                   72.646670                  151.810195   \n",
       "\n",
       "                     Turbine_Pressure Spiral Casing  Turbine_Rotational Speed  \\\n",
       "timepoints                                                                      \n",
       "1970-09-11 00:00:00                     5204.692439                107.993752   \n",
       "1970-09-11 00:00:01                     5204.907020                107.993752   \n",
       "1970-09-11 00:00:02                     5205.337213                107.993752   \n",
       "1970-09-11 00:00:03                     5205.767405                107.993752   \n",
       "1970-09-11 00:00:04                     5206.197597                107.993752   \n",
       "\n",
       "                     Bolt_1_Tensile  Bolt_2_Tensile  Bolt_3_Tensile  \\\n",
       "timepoints                                                            \n",
       "1970-09-11 00:00:00        4.962772       -7.615786       -2.839481   \n",
       "1970-09-11 00:00:01        5.031327       -7.592030       -2.878009   \n",
       "1970-09-11 00:00:02        4.978194       -7.574893       -2.857521   \n",
       "1970-09-11 00:00:03        4.894897       -7.659141       -2.939444   \n",
       "1970-09-11 00:00:04        4.989375       -7.563591       -2.863004   \n",
       "\n",
       "                     Bolt_4_Tensile  Bolt_5_Tensile  Bolt_6_Tensile  \n",
       "timepoints                                                           \n",
       "1970-09-11 00:00:00       -0.922153       -5.521569       -3.766545  \n",
       "1970-09-11 00:00:01       -0.940889       -5.516459       -3.691460  \n",
       "1970-09-11 00:00:02       -0.937066       -5.550948       -3.748036  \n",
       "1970-09-11 00:00:03       -0.951310       -5.510674       -3.769048  \n",
       "1970-09-11 00:00:04       -0.983190       -5.588106       -3.776209  "
      ]
     },
     "execution_count": 94,
     "metadata": {},
     "output_type": "execute_result"
    }
   ],
   "source": [
    "data = pd.read_parquet('../data/detrended_steady_data.parquet')\n",
    "data = data.dropna()\n",
    "data = data.drop_duplicates()\n",
    "data.head()"
   ]
  },
  {
   "cell_type": "code",
   "execution_count": 95,
   "metadata": {},
   "outputs": [],
   "source": [
    "input_scaler = StandardScaler().fit(data.loc[:,get_operating_signal_names()].values)"
   ]
  },
  {
   "cell_type": "code",
   "execution_count": 96,
   "metadata": {},
   "outputs": [],
   "source": [
    "with open('steady_data_scaler.pkl','wb') as f:\n",
    "    pickle.dump(input_scaler,f)"
   ]
  },
  {
   "cell_type": "code",
   "execution_count": 97,
   "metadata": {},
   "outputs": [],
   "source": [
    "x_train, x_test, y_train, y_test = train_test_split(data.reindex(columns=get_operating_signal_names()).values,\n",
    "                                                    data.reindex(columns=get_tensile_sensor_names()).values,\n",
    "                                                    test_size=0.30,\n",
    "                                                    random_state=0)\n",
    "\n",
    "x_test = input_scaler.transform(x_test)\n",
    "x_train = input_scaler.transform(x_train)\n",
    "\n",
    "x_train = x_train.astype('float32')\n",
    "x_test = x_test.astype('float32')\n",
    "\n",
    "y_test = y_test.astype('float32')\n",
    "y_train = y_train.astype('float32')"
   ]
  },
  {
   "cell_type": "code",
   "execution_count": 117,
   "metadata": {},
   "outputs": [],
   "source": [
    "model = keras.Sequential(\n",
    "    [\n",
    "        layers.Dense(36, activation=\"relu\"),\n",
    "        layers.Dropout(0.1),\n",
    "        layers.Dense(36, activation=\"relu\"),\n",
    "        layers.Dropout(0.1),\n",
    "        layers.Dense(len(get_tensile_sensor_names())),\n",
    "    ]\n",
    ")\n",
    "\n",
    "callback_list = [keras.callbacks.EarlyStopping(monitor=\"val_mae\", patience=3)]\n",
    "model.compile(optimizer='rmsprop',loss='mse',metrics=['mae'])"
   ]
  },
  {
   "cell_type": "code",
   "execution_count": 118,
   "metadata": {},
   "outputs": [
    {
     "name": "stdout",
     "output_type": "stream",
     "text": [
      "Epoch 1/200\n",
      "4344/4344 [==============================] - 10s 2ms/step - loss: 2.9824 - mae: 1.1980 - val_loss: 2.1955 - val_mae: 1.0025\n",
      "Epoch 2/200\n",
      "4344/4344 [==============================] - 8s 2ms/step - loss: 2.4227 - mae: 1.0644 - val_loss: 1.9903 - val_mae: 0.9453\n",
      "Epoch 3/200\n",
      "4344/4344 [==============================] - 8s 2ms/step - loss: 2.3185 - mae: 1.0386 - val_loss: 1.9055 - val_mae: 0.9287\n",
      "Epoch 4/200\n",
      "4344/4344 [==============================] - 7s 2ms/step - loss: 2.2649 - mae: 1.0256 - val_loss: 1.8617 - val_mae: 0.9139\n",
      "Epoch 5/200\n",
      "4344/4344 [==============================] - 7s 2ms/step - loss: 2.2399 - mae: 1.0182 - val_loss: 1.8416 - val_mae: 0.9106\n",
      "Epoch 6/200\n",
      "4344/4344 [==============================] - 8s 2ms/step - loss: 2.2264 - mae: 1.0135 - val_loss: 1.8253 - val_mae: 0.9064\n",
      "Epoch 7/200\n",
      "4344/4344 [==============================] - 9s 2ms/step - loss: 2.2142 - mae: 1.0099 - val_loss: 1.8200 - val_mae: 0.9029\n",
      "Epoch 8/200\n",
      "4344/4344 [==============================] - 8s 2ms/step - loss: 2.2058 - mae: 1.0074 - val_loss: 1.8081 - val_mae: 0.8983\n",
      "Epoch 9/200\n",
      "4344/4344 [==============================] - 8s 2ms/step - loss: 2.1973 - mae: 1.0050 - val_loss: 1.7988 - val_mae: 0.8969\n",
      "Epoch 10/200\n",
      "4344/4344 [==============================] - 7s 2ms/step - loss: 2.1908 - mae: 1.0028 - val_loss: 1.7810 - val_mae: 0.8909\n",
      "Epoch 11/200\n",
      "4344/4344 [==============================] - 7s 2ms/step - loss: 2.1887 - mae: 1.0017 - val_loss: 1.7827 - val_mae: 0.8938\n",
      "Epoch 12/200\n",
      "4344/4344 [==============================] - 8s 2ms/step - loss: 2.1868 - mae: 1.0009 - val_loss: 1.7823 - val_mae: 0.8919\n",
      "Epoch 13/200\n",
      "4344/4344 [==============================] - 8s 2ms/step - loss: 2.1838 - mae: 1.0005 - val_loss: 1.7796 - val_mae: 0.8891\n",
      "Epoch 14/200\n",
      "4344/4344 [==============================] - 8s 2ms/step - loss: 2.1783 - mae: 0.9997 - val_loss: 1.7812 - val_mae: 0.8925\n",
      "Epoch 15/200\n",
      "4344/4344 [==============================] - 8s 2ms/step - loss: 2.1765 - mae: 0.9992 - val_loss: 1.7791 - val_mae: 0.8914\n",
      "Epoch 16/200\n",
      "4344/4344 [==============================] - 9s 2ms/step - loss: 2.1751 - mae: 0.9989 - val_loss: 1.7721 - val_mae: 0.8908\n",
      "INFO:tensorflow:Assets written to: steady_additive_fitted_model\\assets\n"
     ]
    }
   ],
   "source": [
    "num_epochs = 200\n",
    "history = model.fit(x_train, y_train, epochs=num_epochs, batch_size=1024, validation_data=(x_test, y_test),callbacks=callback_list)\n",
    "model.save('steady_additive_fitted_model')"
   ]
  },
  {
   "cell_type": "code",
   "execution_count": 119,
   "metadata": {},
   "outputs": [
    {
     "ename": "ValueError",
     "evalue": "x and y must have same first dimension, but have shapes (200,) and (16,)",
     "output_type": "error",
     "traceback": [
      "\u001b[1;31m---------------------------------------------------------------------------\u001b[0m",
      "\u001b[1;31mValueError\u001b[0m                                Traceback (most recent call last)",
      "\u001b[1;32mc:\\gitrepositories\\ae_krafthack_2022\\notebooks\\04_additive_steady_model.ipynb Cell 11'\u001b[0m in \u001b[0;36m<cell line: 7>\u001b[1;34m()\u001b[0m\n\u001b[0;32m      <a href='vscode-notebook-cell:/c%3A/gitrepositories/ae_krafthack_2022/notebooks/04_additive_steady_model.ipynb#ch0000010?line=4'>5</a>\u001b[0m training_loss \u001b[39m=\u001b[39m history\u001b[39m.\u001b[39mhistory[\u001b[39m\"\u001b[39m\u001b[39mloss\u001b[39m\u001b[39m\"\u001b[39m]\n\u001b[0;32m      <a href='vscode-notebook-cell:/c%3A/gitrepositories/ae_krafthack_2022/notebooks/04_additive_steady_model.ipynb#ch0000010?line=5'>6</a>\u001b[0m validation_loss \u001b[39m=\u001b[39m history\u001b[39m.\u001b[39mhistory[\u001b[39m\"\u001b[39m\u001b[39mval_loss\u001b[39m\u001b[39m\"\u001b[39m]\n\u001b[1;32m----> <a href='vscode-notebook-cell:/c%3A/gitrepositories/ae_krafthack_2022/notebooks/04_additive_steady_model.ipynb#ch0000010?line=6'>7</a>\u001b[0m plt\u001b[39m.\u001b[39;49mplot(epoch_nums, training_loss)\n\u001b[0;32m      <a href='vscode-notebook-cell:/c%3A/gitrepositories/ae_krafthack_2022/notebooks/04_additive_steady_model.ipynb#ch0000010?line=7'>8</a>\u001b[0m plt\u001b[39m.\u001b[39mplot(epoch_nums, validation_loss)\n\u001b[0;32m      <a href='vscode-notebook-cell:/c%3A/gitrepositories/ae_krafthack_2022/notebooks/04_additive_steady_model.ipynb#ch0000010?line=8'>9</a>\u001b[0m plt\u001b[39m.\u001b[39mxlabel(\u001b[39m'\u001b[39m\u001b[39mepoch\u001b[39m\u001b[39m'\u001b[39m)\n",
      "File \u001b[1;32mc:\\gitrepositories\\ae_krafthack_2022\\.venv\\lib\\site-packages\\matplotlib\\pyplot.py:2757\u001b[0m, in \u001b[0;36mplot\u001b[1;34m(scalex, scaley, data, *args, **kwargs)\u001b[0m\n\u001b[0;32m   <a href='file:///c%3A/gitrepositories/ae_krafthack_2022/.venv/lib/site-packages/matplotlib/pyplot.py?line=2754'>2755</a>\u001b[0m \u001b[39m@_copy_docstring_and_deprecators\u001b[39m(Axes\u001b[39m.\u001b[39mplot)\n\u001b[0;32m   <a href='file:///c%3A/gitrepositories/ae_krafthack_2022/.venv/lib/site-packages/matplotlib/pyplot.py?line=2755'>2756</a>\u001b[0m \u001b[39mdef\u001b[39;00m \u001b[39mplot\u001b[39m(\u001b[39m*\u001b[39margs, scalex\u001b[39m=\u001b[39m\u001b[39mTrue\u001b[39;00m, scaley\u001b[39m=\u001b[39m\u001b[39mTrue\u001b[39;00m, data\u001b[39m=\u001b[39m\u001b[39mNone\u001b[39;00m, \u001b[39m*\u001b[39m\u001b[39m*\u001b[39mkwargs):\n\u001b[1;32m-> <a href='file:///c%3A/gitrepositories/ae_krafthack_2022/.venv/lib/site-packages/matplotlib/pyplot.py?line=2756'>2757</a>\u001b[0m     \u001b[39mreturn\u001b[39;00m gca()\u001b[39m.\u001b[39mplot(\n\u001b[0;32m   <a href='file:///c%3A/gitrepositories/ae_krafthack_2022/.venv/lib/site-packages/matplotlib/pyplot.py?line=2757'>2758</a>\u001b[0m         \u001b[39m*\u001b[39margs, scalex\u001b[39m=\u001b[39mscalex, scaley\u001b[39m=\u001b[39mscaley,\n\u001b[0;32m   <a href='file:///c%3A/gitrepositories/ae_krafthack_2022/.venv/lib/site-packages/matplotlib/pyplot.py?line=2758'>2759</a>\u001b[0m         \u001b[39m*\u001b[39m\u001b[39m*\u001b[39m({\u001b[39m\"\u001b[39m\u001b[39mdata\u001b[39m\u001b[39m\"\u001b[39m: data} \u001b[39mif\u001b[39;00m data \u001b[39mis\u001b[39;00m \u001b[39mnot\u001b[39;00m \u001b[39mNone\u001b[39;00m \u001b[39melse\u001b[39;00m {}), \u001b[39m*\u001b[39m\u001b[39m*\u001b[39mkwargs)\n",
      "File \u001b[1;32mc:\\gitrepositories\\ae_krafthack_2022\\.venv\\lib\\site-packages\\matplotlib\\axes\\_axes.py:1632\u001b[0m, in \u001b[0;36mAxes.plot\u001b[1;34m(self, scalex, scaley, data, *args, **kwargs)\u001b[0m\n\u001b[0;32m   <a href='file:///c%3A/gitrepositories/ae_krafthack_2022/.venv/lib/site-packages/matplotlib/axes/_axes.py?line=1389'>1390</a>\u001b[0m \u001b[39m\"\"\"\u001b[39;00m\n\u001b[0;32m   <a href='file:///c%3A/gitrepositories/ae_krafthack_2022/.venv/lib/site-packages/matplotlib/axes/_axes.py?line=1390'>1391</a>\u001b[0m \u001b[39mPlot y versus x as lines and/or markers.\u001b[39;00m\n\u001b[0;32m   <a href='file:///c%3A/gitrepositories/ae_krafthack_2022/.venv/lib/site-packages/matplotlib/axes/_axes.py?line=1391'>1392</a>\u001b[0m \n\u001b[1;32m   (...)\u001b[0m\n\u001b[0;32m   <a href='file:///c%3A/gitrepositories/ae_krafthack_2022/.venv/lib/site-packages/matplotlib/axes/_axes.py?line=1628'>1629</a>\u001b[0m \u001b[39m(``'green'``) or hex strings (``'#008000'``).\u001b[39;00m\n\u001b[0;32m   <a href='file:///c%3A/gitrepositories/ae_krafthack_2022/.venv/lib/site-packages/matplotlib/axes/_axes.py?line=1629'>1630</a>\u001b[0m \u001b[39m\"\"\"\u001b[39;00m\n\u001b[0;32m   <a href='file:///c%3A/gitrepositories/ae_krafthack_2022/.venv/lib/site-packages/matplotlib/axes/_axes.py?line=1630'>1631</a>\u001b[0m kwargs \u001b[39m=\u001b[39m cbook\u001b[39m.\u001b[39mnormalize_kwargs(kwargs, mlines\u001b[39m.\u001b[39mLine2D)\n\u001b[1;32m-> <a href='file:///c%3A/gitrepositories/ae_krafthack_2022/.venv/lib/site-packages/matplotlib/axes/_axes.py?line=1631'>1632</a>\u001b[0m lines \u001b[39m=\u001b[39m [\u001b[39m*\u001b[39m\u001b[39mself\u001b[39m\u001b[39m.\u001b[39m_get_lines(\u001b[39m*\u001b[39margs, data\u001b[39m=\u001b[39mdata, \u001b[39m*\u001b[39m\u001b[39m*\u001b[39mkwargs)]\n\u001b[0;32m   <a href='file:///c%3A/gitrepositories/ae_krafthack_2022/.venv/lib/site-packages/matplotlib/axes/_axes.py?line=1632'>1633</a>\u001b[0m \u001b[39mfor\u001b[39;00m line \u001b[39min\u001b[39;00m lines:\n\u001b[0;32m   <a href='file:///c%3A/gitrepositories/ae_krafthack_2022/.venv/lib/site-packages/matplotlib/axes/_axes.py?line=1633'>1634</a>\u001b[0m     \u001b[39mself\u001b[39m\u001b[39m.\u001b[39madd_line(line)\n",
      "File \u001b[1;32mc:\\gitrepositories\\ae_krafthack_2022\\.venv\\lib\\site-packages\\matplotlib\\axes\\_base.py:312\u001b[0m, in \u001b[0;36m_process_plot_var_args.__call__\u001b[1;34m(self, data, *args, **kwargs)\u001b[0m\n\u001b[0;32m    <a href='file:///c%3A/gitrepositories/ae_krafthack_2022/.venv/lib/site-packages/matplotlib/axes/_base.py?line=309'>310</a>\u001b[0m     this \u001b[39m+\u001b[39m\u001b[39m=\u001b[39m args[\u001b[39m0\u001b[39m],\n\u001b[0;32m    <a href='file:///c%3A/gitrepositories/ae_krafthack_2022/.venv/lib/site-packages/matplotlib/axes/_base.py?line=310'>311</a>\u001b[0m     args \u001b[39m=\u001b[39m args[\u001b[39m1\u001b[39m:]\n\u001b[1;32m--> <a href='file:///c%3A/gitrepositories/ae_krafthack_2022/.venv/lib/site-packages/matplotlib/axes/_base.py?line=311'>312</a>\u001b[0m \u001b[39myield from\u001b[39;00m \u001b[39mself\u001b[39;49m\u001b[39m.\u001b[39;49m_plot_args(this, kwargs)\n",
      "File \u001b[1;32mc:\\gitrepositories\\ae_krafthack_2022\\.venv\\lib\\site-packages\\matplotlib\\axes\\_base.py:498\u001b[0m, in \u001b[0;36m_process_plot_var_args._plot_args\u001b[1;34m(self, tup, kwargs, return_kwargs)\u001b[0m\n\u001b[0;32m    <a href='file:///c%3A/gitrepositories/ae_krafthack_2022/.venv/lib/site-packages/matplotlib/axes/_base.py?line=494'>495</a>\u001b[0m     \u001b[39mself\u001b[39m\u001b[39m.\u001b[39maxes\u001b[39m.\u001b[39myaxis\u001b[39m.\u001b[39mupdate_units(y)\n\u001b[0;32m    <a href='file:///c%3A/gitrepositories/ae_krafthack_2022/.venv/lib/site-packages/matplotlib/axes/_base.py?line=496'>497</a>\u001b[0m \u001b[39mif\u001b[39;00m x\u001b[39m.\u001b[39mshape[\u001b[39m0\u001b[39m] \u001b[39m!=\u001b[39m y\u001b[39m.\u001b[39mshape[\u001b[39m0\u001b[39m]:\n\u001b[1;32m--> <a href='file:///c%3A/gitrepositories/ae_krafthack_2022/.venv/lib/site-packages/matplotlib/axes/_base.py?line=497'>498</a>\u001b[0m     \u001b[39mraise\u001b[39;00m \u001b[39mValueError\u001b[39;00m(\u001b[39mf\u001b[39m\u001b[39m\"\u001b[39m\u001b[39mx and y must have same first dimension, but \u001b[39m\u001b[39m\"\u001b[39m\n\u001b[0;32m    <a href='file:///c%3A/gitrepositories/ae_krafthack_2022/.venv/lib/site-packages/matplotlib/axes/_base.py?line=498'>499</a>\u001b[0m                      \u001b[39mf\u001b[39m\u001b[39m\"\u001b[39m\u001b[39mhave shapes \u001b[39m\u001b[39m{\u001b[39;00mx\u001b[39m.\u001b[39mshape\u001b[39m}\u001b[39;00m\u001b[39m and \u001b[39m\u001b[39m{\u001b[39;00my\u001b[39m.\u001b[39mshape\u001b[39m}\u001b[39;00m\u001b[39m\"\u001b[39m)\n\u001b[0;32m    <a href='file:///c%3A/gitrepositories/ae_krafthack_2022/.venv/lib/site-packages/matplotlib/axes/_base.py?line=499'>500</a>\u001b[0m \u001b[39mif\u001b[39;00m x\u001b[39m.\u001b[39mndim \u001b[39m>\u001b[39m \u001b[39m2\u001b[39m \u001b[39mor\u001b[39;00m y\u001b[39m.\u001b[39mndim \u001b[39m>\u001b[39m \u001b[39m2\u001b[39m:\n\u001b[0;32m    <a href='file:///c%3A/gitrepositories/ae_krafthack_2022/.venv/lib/site-packages/matplotlib/axes/_base.py?line=500'>501</a>\u001b[0m     \u001b[39mraise\u001b[39;00m \u001b[39mValueError\u001b[39;00m(\u001b[39mf\u001b[39m\u001b[39m\"\u001b[39m\u001b[39mx and y can be no greater than 2D, but have \u001b[39m\u001b[39m\"\u001b[39m\n\u001b[0;32m    <a href='file:///c%3A/gitrepositories/ae_krafthack_2022/.venv/lib/site-packages/matplotlib/axes/_base.py?line=501'>502</a>\u001b[0m                      \u001b[39mf\u001b[39m\u001b[39m\"\u001b[39m\u001b[39mshapes \u001b[39m\u001b[39m{\u001b[39;00mx\u001b[39m.\u001b[39mshape\u001b[39m}\u001b[39;00m\u001b[39m and \u001b[39m\u001b[39m{\u001b[39;00my\u001b[39m.\u001b[39mshape\u001b[39m}\u001b[39;00m\u001b[39m\"\u001b[39m)\n",
      "\u001b[1;31mValueError\u001b[0m: x and y must have same first dimension, but have shapes (200,) and (16,)"
     ]
    },
    {
     "data": {
      "image/png": "[encoded data removed]",
      "text/plain": [
       "<Figure size 432x288 with 1 Axes>"
      ]
     },
     "metadata": {
      "needs_background": "light"
     },
     "output_type": "display_data"
    }
   ],
   "source": [
    "%matplotlib inline\n",
    "from matplotlib import pyplot as plt\n",
    "\n",
    "epoch_nums = range(1,num_epochs+1)\n",
    "training_loss = history.history[\"loss\"]\n",
    "validation_loss = history.history[\"val_loss\"]\n",
    "plt.plot(epoch_nums, training_loss)\n",
    "plt.plot(epoch_nums, validation_loss)\n",
    "plt.xlabel('epoch')\n",
    "plt.ylabel('loss')\n",
    "plt.legend(['training', 'validation'], loc='upper right')\n",
    "plt.show()"
   ]
  },
  {
   "cell_type": "code",
   "execution_count": 116,
   "metadata": {},
   "outputs": [
    {
     "name": "stdout",
     "output_type": "stream",
     "text": [
      "INFO:tensorflow:Assets written to: steady_additive_model\\assets\n"
     ]
    }
   ],
   "source": []
  },
  {
   "cell_type": "code",
   "execution_count": null,
   "metadata": {},
   "outputs": [],
   "source": []
  }
 ],
 "metadata": {
  "interpreter": {
   "hash": "ea2f6b11d97b8b8d84f7bd1192551fdb1ae2077f34e1f1de5a1608418594c8ae"
  },
  "kernelspec": {
   "display_name": "Python 3.9.9 ('.venv': venv)",
   "language": "python",
   "name": "python3"
  },
  "language_info": {
   "codemirror_mode": {
    "name": "ipython",
    "version": 3
   },
   "file_extension": ".py",
   "mimetype": "text/x-python",
   "name": "python",
   "nbconvert_exporter": "python",
   "pygments_lexer": "ipython3",
   "version": "3.9.9"
  },
  "orig_nbformat": 4
 },
 "nbformat": 4,
 "nbformat_minor": 2
}
